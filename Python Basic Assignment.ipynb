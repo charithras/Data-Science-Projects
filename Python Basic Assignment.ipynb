{
 "cells": [
  {
   "cell_type": "markdown",
   "id": "0f00a10b",
   "metadata": {},
   "source": [
    "# Python Basics Assingment:"
   ]
  },
  {
   "cell_type": "raw",
   "id": "ccbb5d67",
   "metadata": {},
   "source": [
    "1.Simple Message: Store a message in a variable, and then print that message."
   ]
  },
  {
   "cell_type": "code",
   "execution_count": 4,
   "id": "4728f1f2",
   "metadata": {},
   "outputs": [
    {
     "name": "stdout",
     "output_type": "stream",
     "text": [
      "Hi, How are you?\n"
     ]
    }
   ],
   "source": [
    "a= \"Hi, How are you?\"\n",
    "print(a)"
   ]
  },
  {
   "cell_type": "raw",
   "id": "e9aa5881",
   "metadata": {},
   "source": [
    "2. Store a message in a variable and print that message. Then change the \n",
    "value of your variable to a new message and print the new message"
   ]
  },
  {
   "cell_type": "code",
   "execution_count": 5,
   "id": "bf228fee",
   "metadata": {},
   "outputs": [
    {
     "name": "stdout",
     "output_type": "stream",
     "text": [
      "Stay safe during the pandemic\n"
     ]
    }
   ],
   "source": [
    "a=\"Stay safe during the pandemic\"\n",
    "print(a)"
   ]
  },
  {
   "cell_type": "code",
   "execution_count": 7,
   "id": "f9c34c83",
   "metadata": {},
   "outputs": [
    {
     "name": "stdout",
     "output_type": "stream",
     "text": [
      "Stay home\n"
     ]
    }
   ],
   "source": [
    "a=\"Stay home\"\n",
    "print(a)"
   ]
  },
  {
   "cell_type": "raw",
   "id": "6ad8f96e",
   "metadata": {},
   "source": [
    "3. Store a person’s name in a variable and print a message to that person. \n",
    "Your message should be simple, such as, “Hello Eric, would you like to \n",
    "learn some Python today?”\n"
   ]
  },
  {
   "cell_type": "code",
   "execution_count": 22,
   "id": "34f4e252",
   "metadata": {},
   "outputs": [
    {
     "name": "stdout",
     "output_type": "stream",
     "text": [
      "Hello charithra would you like to learn Python\n"
     ]
    }
   ],
   "source": [
    "c=\"charithra\"\n",
    "print(\"Hello\"+\" \"+c+\" \"+\"would you like to learn Python\")"
   ]
  },
  {
   "cell_type": "raw",
   "id": "8328025e",
   "metadata": {},
   "source": [
    "4. Find a quote from a famous person you admire. Print the quote and the \n",
    "name of its author. Your output should look something like the following, \n",
    "including the quotation marks: Albert Einstein once said, “A person who \n",
    "never made a mistake never tried anything new.”\n"
   ]
  },
  {
   "cell_type": "code",
   "execution_count": 2,
   "id": "cfadd7cd",
   "metadata": {},
   "outputs": [],
   "source": [
    "a=\"A dream is not that which you see while sleeping, it is something that does not let you sleep.\""
   ]
  },
  {
   "cell_type": "code",
   "execution_count": 3,
   "id": "67cce820",
   "metadata": {},
   "outputs": [],
   "source": [
    "b=\"Abdul Kalam\""
   ]
  },
  {
   "cell_type": "code",
   "execution_count": 7,
   "id": "f88927b0",
   "metadata": {},
   "outputs": [
    {
     "name": "stdout",
     "output_type": "stream",
     "text": [
      "Abdul Kalam once said,\n",
      "A dream is not that which you see while sleeping, it is something that does not let you sleep.\n"
     ]
    }
   ],
   "source": [
    "print(f\"{b} once said,\\n{a}\")"
   ]
  },
  {
   "cell_type": "raw",
   "id": "f3322a63",
   "metadata": {},
   "source": [
    "5. Repeat Exercise 4, but this time store the famous person’s name in a \n",
    "variable called famous_person. Then compose your message and store it in \n",
    "a new variable called message. Print your message."
   ]
  },
  {
   "cell_type": "code",
   "execution_count": 9,
   "id": "608deaf6",
   "metadata": {},
   "outputs": [
    {
     "name": "stdout",
     "output_type": "stream",
     "text": [
      "Abdul kalam was a scientist who served as the President of India\n"
     ]
    }
   ],
   "source": [
    "famous_person=\"Abdul Kalam\"\n",
    "message=\"Abdul kalam was a scientist who served as the President of India\"\n",
    "print(message)"
   ]
  },
  {
   "cell_type": "raw",
   "id": "0e04e8a9",
   "metadata": {},
   "source": [
    "6. Write addition, subtraction, multiplication, and division operations that \n",
    "each result in the number 8. Be sure to enclose your operations in print \n",
    "statements to see the results. You should create four lines that look like \n",
    "this: print (5 + 3)"
   ]
  },
  {
   "cell_type": "code",
   "execution_count": 10,
   "id": "7d8c272d",
   "metadata": {},
   "outputs": [
    {
     "name": "stdout",
     "output_type": "stream",
     "text": [
      "8\n"
     ]
    }
   ],
   "source": [
    "print(6+2)"
   ]
  },
  {
   "cell_type": "code",
   "execution_count": 12,
   "id": "8c86f2dd",
   "metadata": {},
   "outputs": [
    {
     "name": "stdout",
     "output_type": "stream",
     "text": [
      "8\n"
     ]
    }
   ],
   "source": [
    "print(9-1)"
   ]
  },
  {
   "cell_type": "code",
   "execution_count": 13,
   "id": "aa0be6cd",
   "metadata": {},
   "outputs": [
    {
     "name": "stdout",
     "output_type": "stream",
     "text": [
      "8\n"
     ]
    }
   ],
   "source": [
    "print(4*2)"
   ]
  },
  {
   "cell_type": "code",
   "execution_count": 14,
   "id": "c3026ddc",
   "metadata": {},
   "outputs": [
    {
     "name": "stdout",
     "output_type": "stream",
     "text": [
      "8.0\n"
     ]
    }
   ],
   "source": [
    "print(8/1)"
   ]
  },
  {
   "cell_type": "raw",
   "id": "72d8feb5",
   "metadata": {},
   "source": [
    "7. Store your favourite number in a variable. Then, using that variable, create \n",
    "a message that reveals your favourite number. Print that message."
   ]
  },
  {
   "cell_type": "code",
   "execution_count": 27,
   "id": "240af7de",
   "metadata": {},
   "outputs": [
    {
     "name": "stdout",
     "output_type": "stream",
     "text": [
      "My favorite number is 1\n"
     ]
    }
   ],
   "source": [
    "q=1\n",
    "print('My favorite number is',q)"
   ]
  },
  {
   "cell_type": "raw",
   "id": "66fa3ec0",
   "metadata": {},
   "source": [
    "8. Choose two of the programs you’ve written and add at least one comment \n",
    "to each. If you don’t have anything specific to write because your programs \n",
    "are too simple at this point, just add your name and the current date at the \n",
    "top of each program file. Then write one sentence describing what the \n",
    "program does"
   ]
  },
  {
   "cell_type": "code",
   "execution_count": 35,
   "id": "4b66c55b",
   "metadata": {},
   "outputs": [
    {
     "name": "stdout",
     "output_type": "stream",
     "text": [
      "hi charithra\n",
      "My favourite number is 1\n"
     ]
    }
   ],
   "source": [
    "#Charithra Shetty 25/02/1995\n",
    "\n",
    "a=\"charithra\"\n",
    "b=1\n",
    "print(\"hi\",a)\n",
    "print(\"My favourite number is\",b)"
   ]
  },
  {
   "cell_type": "raw",
   "id": "fe88ed2b",
   "metadata": {},
   "source": [
    "9. Store the names of a few of your friends in a list called names. Print each \n",
    "person’s name by accessing each element in the list, one at a time."
   ]
  },
  {
   "cell_type": "code",
   "execution_count": 16,
   "id": "33a88147",
   "metadata": {},
   "outputs": [
    {
     "name": "stdout",
     "output_type": "stream",
     "text": [
      "sara\n",
      "meera\n",
      "veera\n",
      "heera\n"
     ]
    }
   ],
   "source": [
    "names=[\"sara\",\"meera\",\"veera\",\"heera\"]\n",
    "for name in names:\n",
    "    print(name)"
   ]
  },
  {
   "cell_type": "raw",
   "id": "fc39ced0",
   "metadata": {},
   "source": [
    "# 10.Start with the list you used in Exercise 9, but instead of just printing each \n",
    "person’s name, print a message to them. The text of each message should \n",
    "be the same, but each message should be personalized with the person’s\n",
    "name."
   ]
  },
  {
   "cell_type": "code",
   "execution_count": 18,
   "id": "76f707a4",
   "metadata": {},
   "outputs": [
    {
     "name": "stdout",
     "output_type": "stream",
     "text": [
      "My friend is sara\n",
      "My friend is meera\n",
      "My friend is veera\n",
      "My friend is heera\n"
     ]
    }
   ],
   "source": [
    "names=[\"sara\",\"meera\",\"veera\",\"heera\"]\n",
    "for name in names:\n",
    "    print(\"My friend is\", (name))"
   ]
  },
  {
   "cell_type": "raw",
   "id": "6213c9ac",
   "metadata": {},
   "source": [
    "11.Think of your favourite mode of transportation, such as a motorcycle or a \n",
    "car, and make a list that stores several examples. Use your list to print a \n",
    "series of statements about these items, such as “I would like to own a \n",
    "Honda motorcycle.”\n"
   ]
  },
  {
   "cell_type": "code",
   "execution_count": 26,
   "id": "3b84821c",
   "metadata": {},
   "outputs": [
    {
     "name": "stdout",
     "output_type": "stream",
     "text": [
      "I own a Audi\n",
      "I want a Benz\n",
      "I sold my BMW\n",
      "I love Jaguar\n"
     ]
    }
   ],
   "source": [
    "cars=[\"Audi\",\"Benz\",\"BMW\",\"Jaguar\"]\n",
    "print(\"I own a\", cars[0])\n",
    "print(\"I want a\",cars[1])\n",
    "print(\"I sold my\",cars[2])\n",
    "print(\"I love\",cars[3])"
   ]
  }
 ],
 "metadata": {
  "kernelspec": {
   "display_name": "Python 3",
   "language": "python",
   "name": "python3"
  },
  "language_info": {
   "codemirror_mode": {
    "name": "ipython",
    "version": 3
   },
   "file_extension": ".py",
   "mimetype": "text/x-python",
   "name": "python",
   "nbconvert_exporter": "python",
   "pygments_lexer": "ipython3",
   "version": "3.8.8"
  }
 },
 "nbformat": 4,
 "nbformat_minor": 5
}
